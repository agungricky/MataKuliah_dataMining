{
 "cells": [
  {
   "attachments": {},
   "cell_type": "markdown",
   "metadata": {
    "tags": []
   },
   "source": [
    "# MISSING_VALUE\n",
    "missing value adalah proses membersihkan data yang kosong atau belum terisi"
   ]
  },
  {
   "cell_type": "code",
   "execution_count": 23,
   "metadata": {},
   "outputs": [],
   "source": [
    "import pandas as pd\n",
    "import numpy as np"
   ]
  },
  {
   "cell_type": "code",
   "execution_count": 24,
   "metadata": {},
   "outputs": [
    {
     "data": {
      "text/plain": [
       "<bound method NDFrame.head of                     wilayah     jenis_minuman  jumlah volume\n",
       "0      Kecamatan Pademangan               Ciu     NaN  Botol\n",
       "1      Kecamatan Pademangan  Anggur Orang Tua   134.0  Botol\n",
       "2      Kecamatan Pademangan           Guinnes    12.0  Botol\n",
       "3      Kecamatan Pademangan      Anggur Merah    84.0  Botol\n",
       "4      Kecamatan Pademangan          Rajawali    84.0  Botol\n",
       "5      Kecamatan Pademangan             Vodka     4.0  Botol\n",
       "6      Kecamatan Pademangan          Intisari     9.0    NaN\n",
       "7            Kecamatan Koja  Anggur Orang Tua    13.0  Botol\n",
       "8            Kecamatan Koja      Anggur Merah     2.0  Botol\n",
       "9            Kecamatan Koja            Brandy    60.0  Botol\n",
       "10           Kecamatan Koja           Mansion    23.0  Botol\n",
       "11           Kecamatan Koja          Rajawali    55.0  Botol\n",
       "12           Kecamatan Koja    Anggur Ginseng   132.0  Botol\n",
       "13           Kecamatan Koja             Vodka    20.0  Botol\n",
       "14      Kecamatan Cilincing      Anggur Merah     9.0  Botol\n",
       "15      Kecamatan Cilincing            Brandy   181.0  Botol\n",
       "16      Kecamatan Cilincing          Rajawali    26.0  Botol\n",
       "17      Kecamatan Cilincing     Kolesom Kecil     9.0  Botol\n",
       "18      Kecamatan Cilincing     Kolesom Besar    10.0  Botol\n",
       "19      Kecamatan Cilincing             Aseng    41.0  Botol\n",
       "20   KecamatanTanjung Priok            Brandy    60.0  Botol\n",
       "21   KecamatanTanjung Priok          Rajawali    45.0  Botol\n",
       "22   KecamatanTanjung Priok          Intisari     3.0  Botol\n",
       "23  Kecamatan Kelapa Gading           Guinnes     5.0  Botol\n",
       "24  Kecamatan Kelapa Gading           Bintang    42.0  Botol\n",
       "25  Kecamatan Kelapa Gading               Bir    66.0  Botol\n",
       "26  Kecamatan Kelapa Gading      Anggur Merah   120.0  Botol\n",
       "27  Kecamatan Kelapa Gading            Brandy    60.0  Botol\n",
       "28  Kecamatan Kelapa Gading             Vodka     4.0  Botol\n",
       "29  Kecamatan Kelapa Gading         Bir Hitam   119.0  Botol>"
      ]
     },
     "execution_count": 24,
     "metadata": {},
     "output_type": "execute_result"
    }
   ],
   "source": [
    "#Membaca File CSV\n",
    "file = pd.read_csv(\"data-hasil-penertiban-minuman-keras-satpol-pp-jakarta-utara-periode-juni-2017.csv\")\n",
    "\n",
    "#Menampilkan data\n",
    "file.head"
   ]
  },
  {
   "cell_type": "code",
   "execution_count": 25,
   "metadata": {},
   "outputs": [
    {
     "data": {
      "text/plain": [
       "<bound method DataFrame.info of                     wilayah     jenis_minuman  jumlah volume\n",
       "0      Kecamatan Pademangan               Ciu     NaN  Botol\n",
       "1      Kecamatan Pademangan  Anggur Orang Tua   134.0  Botol\n",
       "2      Kecamatan Pademangan           Guinnes    12.0  Botol\n",
       "3      Kecamatan Pademangan      Anggur Merah    84.0  Botol\n",
       "4      Kecamatan Pademangan          Rajawali    84.0  Botol\n",
       "5      Kecamatan Pademangan             Vodka     4.0  Botol\n",
       "6      Kecamatan Pademangan          Intisari     9.0    NaN\n",
       "7            Kecamatan Koja  Anggur Orang Tua    13.0  Botol\n",
       "8            Kecamatan Koja      Anggur Merah     2.0  Botol\n",
       "9            Kecamatan Koja            Brandy    60.0  Botol\n",
       "10           Kecamatan Koja           Mansion    23.0  Botol\n",
       "11           Kecamatan Koja          Rajawali    55.0  Botol\n",
       "12           Kecamatan Koja    Anggur Ginseng   132.0  Botol\n",
       "13           Kecamatan Koja             Vodka    20.0  Botol\n",
       "14      Kecamatan Cilincing      Anggur Merah     9.0  Botol\n",
       "15      Kecamatan Cilincing            Brandy   181.0  Botol\n",
       "16      Kecamatan Cilincing          Rajawali    26.0  Botol\n",
       "17      Kecamatan Cilincing     Kolesom Kecil     9.0  Botol\n",
       "18      Kecamatan Cilincing     Kolesom Besar    10.0  Botol\n",
       "19      Kecamatan Cilincing             Aseng    41.0  Botol\n",
       "20   KecamatanTanjung Priok            Brandy    60.0  Botol\n",
       "21   KecamatanTanjung Priok          Rajawali    45.0  Botol\n",
       "22   KecamatanTanjung Priok          Intisari     3.0  Botol\n",
       "23  Kecamatan Kelapa Gading           Guinnes     5.0  Botol\n",
       "24  Kecamatan Kelapa Gading           Bintang    42.0  Botol\n",
       "25  Kecamatan Kelapa Gading               Bir    66.0  Botol\n",
       "26  Kecamatan Kelapa Gading      Anggur Merah   120.0  Botol\n",
       "27  Kecamatan Kelapa Gading            Brandy    60.0  Botol\n",
       "28  Kecamatan Kelapa Gading             Vodka     4.0  Botol\n",
       "29  Kecamatan Kelapa Gading         Bir Hitam   119.0  Botol>"
      ]
     },
     "execution_count": 25,
     "metadata": {},
     "output_type": "execute_result"
    }
   ],
   "source": [
    "#melihat detail data\n",
    "file.info"
   ]
  },
  {
   "cell_type": "code",
   "execution_count": 26,
   "metadata": {},
   "outputs": [
    {
     "data": {
      "text/plain": [
       "wilayah          0\n",
       "jenis_minuman    0\n",
       "jumlah           1\n",
       "volume           1\n",
       "dtype: int64"
      ]
     },
     "execution_count": 26,
     "metadata": {},
     "output_type": "execute_result"
    }
   ],
   "source": [
    "#melihat jumlah missing data / data kosong\n",
    "file.isnull().sum()"
   ]
  },
  {
   "cell_type": "code",
   "execution_count": 27,
   "metadata": {},
   "outputs": [
    {
     "data": {
      "text/plain": [
       "wilayah          0.000000\n",
       "jenis_minuman    0.000000\n",
       "jumlah           3.333333\n",
       "volume           3.333333\n",
       "dtype: float64"
      ]
     },
     "execution_count": 27,
     "metadata": {},
     "output_type": "execute_result"
    }
   ],
   "source": [
    "#melihat presentase\n",
    "#jika di baca = file.datakosong.jumlahkan * banyak data 100% di bagi banyak data 31\n",
    "file.isnull().sum() * 100 / len(file)"
   ]
  },
  {
   "cell_type": "code",
   "execution_count": 28,
   "metadata": {},
   "outputs": [],
   "source": [
    "#mengisi bagian kosong pada kolom jumlah dengan Median\n",
    "file['jumlah'] = file['jumlah'].fillna(file['jumlah'].median())"
   ]
  },
  {
   "cell_type": "code",
   "execution_count": 29,
   "metadata": {},
   "outputs": [],
   "source": [
    "#mengisi bagian kosong pada kolom volume dengan Modus\n",
    "file['volume'] = file['volume'].fillna(file['volume'].mode())"
   ]
  },
  {
   "cell_type": "code",
   "execution_count": 30,
   "metadata": {},
   "outputs": [
    {
     "data": {
      "text/plain": [
       "wilayah          0\n",
       "jenis_minuman    0\n",
       "jumlah           0\n",
       "volume           1\n",
       "dtype: int64"
      ]
     },
     "execution_count": 30,
     "metadata": {},
     "output_type": "execute_result"
    }
   ],
   "source": [
    "#melihat data mising\n",
    "file.isnull().sum()"
   ]
  },
  {
   "cell_type": "code",
   "execution_count": 31,
   "metadata": {},
   "outputs": [],
   "source": [
    "#menghapus baris/kolom yang terdapat missing\n",
    "file = file.dropna()"
   ]
  },
  {
   "cell_type": "code",
   "execution_count": 32,
   "metadata": {},
   "outputs": [
    {
     "data": {
      "text/plain": [
       "wilayah          0\n",
       "jenis_minuman    0\n",
       "jumlah           0\n",
       "volume           0\n",
       "dtype: int64"
      ]
     },
     "execution_count": 32,
     "metadata": {},
     "output_type": "execute_result"
    }
   ],
   "source": [
    "#melakukan pengecekan apakah masih ada mising\n",
    "file.isnull().sum()"
   ]
  },
  {
   "cell_type": "code",
   "execution_count": 33,
   "metadata": {},
   "outputs": [
    {
     "data": {
      "text/html": [
       "<div>\n",
       "<style scoped>\n",
       "    .dataframe tbody tr th:only-of-type {\n",
       "        vertical-align: middle;\n",
       "    }\n",
       "\n",
       "    .dataframe tbody tr th {\n",
       "        vertical-align: top;\n",
       "    }\n",
       "\n",
       "    .dataframe thead th {\n",
       "        text-align: right;\n",
       "    }\n",
       "</style>\n",
       "<table border=\"1\" class=\"dataframe\">\n",
       "  <thead>\n",
       "    <tr style=\"text-align: right;\">\n",
       "      <th></th>\n",
       "      <th>wilayah</th>\n",
       "      <th>jenis_minuman</th>\n",
       "      <th>jumlah</th>\n",
       "    </tr>\n",
       "  </thead>\n",
       "  <tbody>\n",
       "    <tr>\n",
       "      <th>0</th>\n",
       "      <td>Kecamatan Pademangan</td>\n",
       "      <td>Ciu</td>\n",
       "      <td>41.0</td>\n",
       "    </tr>\n",
       "    <tr>\n",
       "      <th>1</th>\n",
       "      <td>Kecamatan Pademangan</td>\n",
       "      <td>Anggur Orang Tua</td>\n",
       "      <td>134.0</td>\n",
       "    </tr>\n",
       "    <tr>\n",
       "      <th>2</th>\n",
       "      <td>Kecamatan Pademangan</td>\n",
       "      <td>Guinnes</td>\n",
       "      <td>12.0</td>\n",
       "    </tr>\n",
       "    <tr>\n",
       "      <th>3</th>\n",
       "      <td>Kecamatan Pademangan</td>\n",
       "      <td>Anggur Merah</td>\n",
       "      <td>84.0</td>\n",
       "    </tr>\n",
       "    <tr>\n",
       "      <th>4</th>\n",
       "      <td>Kecamatan Pademangan</td>\n",
       "      <td>Rajawali</td>\n",
       "      <td>84.0</td>\n",
       "    </tr>\n",
       "    <tr>\n",
       "      <th>5</th>\n",
       "      <td>Kecamatan Pademangan</td>\n",
       "      <td>Vodka</td>\n",
       "      <td>4.0</td>\n",
       "    </tr>\n",
       "    <tr>\n",
       "      <th>7</th>\n",
       "      <td>Kecamatan Koja</td>\n",
       "      <td>Anggur Orang Tua</td>\n",
       "      <td>13.0</td>\n",
       "    </tr>\n",
       "    <tr>\n",
       "      <th>8</th>\n",
       "      <td>Kecamatan Koja</td>\n",
       "      <td>Anggur Merah</td>\n",
       "      <td>2.0</td>\n",
       "    </tr>\n",
       "    <tr>\n",
       "      <th>9</th>\n",
       "      <td>Kecamatan Koja</td>\n",
       "      <td>Brandy</td>\n",
       "      <td>60.0</td>\n",
       "    </tr>\n",
       "    <tr>\n",
       "      <th>10</th>\n",
       "      <td>Kecamatan Koja</td>\n",
       "      <td>Mansion</td>\n",
       "      <td>23.0</td>\n",
       "    </tr>\n",
       "    <tr>\n",
       "      <th>11</th>\n",
       "      <td>Kecamatan Koja</td>\n",
       "      <td>Rajawali</td>\n",
       "      <td>55.0</td>\n",
       "    </tr>\n",
       "    <tr>\n",
       "      <th>12</th>\n",
       "      <td>Kecamatan Koja</td>\n",
       "      <td>Anggur Ginseng</td>\n",
       "      <td>132.0</td>\n",
       "    </tr>\n",
       "    <tr>\n",
       "      <th>13</th>\n",
       "      <td>Kecamatan Koja</td>\n",
       "      <td>Vodka</td>\n",
       "      <td>20.0</td>\n",
       "    </tr>\n",
       "    <tr>\n",
       "      <th>14</th>\n",
       "      <td>Kecamatan Cilincing</td>\n",
       "      <td>Anggur Merah</td>\n",
       "      <td>9.0</td>\n",
       "    </tr>\n",
       "    <tr>\n",
       "      <th>15</th>\n",
       "      <td>Kecamatan Cilincing</td>\n",
       "      <td>Brandy</td>\n",
       "      <td>181.0</td>\n",
       "    </tr>\n",
       "    <tr>\n",
       "      <th>16</th>\n",
       "      <td>Kecamatan Cilincing</td>\n",
       "      <td>Rajawali</td>\n",
       "      <td>26.0</td>\n",
       "    </tr>\n",
       "    <tr>\n",
       "      <th>17</th>\n",
       "      <td>Kecamatan Cilincing</td>\n",
       "      <td>Kolesom Kecil</td>\n",
       "      <td>9.0</td>\n",
       "    </tr>\n",
       "    <tr>\n",
       "      <th>18</th>\n",
       "      <td>Kecamatan Cilincing</td>\n",
       "      <td>Kolesom Besar</td>\n",
       "      <td>10.0</td>\n",
       "    </tr>\n",
       "    <tr>\n",
       "      <th>19</th>\n",
       "      <td>Kecamatan Cilincing</td>\n",
       "      <td>Aseng</td>\n",
       "      <td>41.0</td>\n",
       "    </tr>\n",
       "    <tr>\n",
       "      <th>20</th>\n",
       "      <td>KecamatanTanjung Priok</td>\n",
       "      <td>Brandy</td>\n",
       "      <td>60.0</td>\n",
       "    </tr>\n",
       "    <tr>\n",
       "      <th>21</th>\n",
       "      <td>KecamatanTanjung Priok</td>\n",
       "      <td>Rajawali</td>\n",
       "      <td>45.0</td>\n",
       "    </tr>\n",
       "    <tr>\n",
       "      <th>22</th>\n",
       "      <td>KecamatanTanjung Priok</td>\n",
       "      <td>Intisari</td>\n",
       "      <td>3.0</td>\n",
       "    </tr>\n",
       "    <tr>\n",
       "      <th>23</th>\n",
       "      <td>Kecamatan Kelapa Gading</td>\n",
       "      <td>Guinnes</td>\n",
       "      <td>5.0</td>\n",
       "    </tr>\n",
       "    <tr>\n",
       "      <th>24</th>\n",
       "      <td>Kecamatan Kelapa Gading</td>\n",
       "      <td>Bintang</td>\n",
       "      <td>42.0</td>\n",
       "    </tr>\n",
       "    <tr>\n",
       "      <th>25</th>\n",
       "      <td>Kecamatan Kelapa Gading</td>\n",
       "      <td>Bir</td>\n",
       "      <td>66.0</td>\n",
       "    </tr>\n",
       "    <tr>\n",
       "      <th>26</th>\n",
       "      <td>Kecamatan Kelapa Gading</td>\n",
       "      <td>Anggur Merah</td>\n",
       "      <td>120.0</td>\n",
       "    </tr>\n",
       "    <tr>\n",
       "      <th>27</th>\n",
       "      <td>Kecamatan Kelapa Gading</td>\n",
       "      <td>Brandy</td>\n",
       "      <td>60.0</td>\n",
       "    </tr>\n",
       "    <tr>\n",
       "      <th>28</th>\n",
       "      <td>Kecamatan Kelapa Gading</td>\n",
       "      <td>Vodka</td>\n",
       "      <td>4.0</td>\n",
       "    </tr>\n",
       "    <tr>\n",
       "      <th>29</th>\n",
       "      <td>Kecamatan Kelapa Gading</td>\n",
       "      <td>Bir Hitam</td>\n",
       "      <td>119.0</td>\n",
       "    </tr>\n",
       "  </tbody>\n",
       "</table>\n",
       "</div>"
      ],
      "text/plain": [
       "                    wilayah     jenis_minuman  jumlah\n",
       "0      Kecamatan Pademangan               Ciu    41.0\n",
       "1      Kecamatan Pademangan  Anggur Orang Tua   134.0\n",
       "2      Kecamatan Pademangan           Guinnes    12.0\n",
       "3      Kecamatan Pademangan      Anggur Merah    84.0\n",
       "4      Kecamatan Pademangan          Rajawali    84.0\n",
       "5      Kecamatan Pademangan             Vodka     4.0\n",
       "7            Kecamatan Koja  Anggur Orang Tua    13.0\n",
       "8            Kecamatan Koja      Anggur Merah     2.0\n",
       "9            Kecamatan Koja            Brandy    60.0\n",
       "10           Kecamatan Koja           Mansion    23.0\n",
       "11           Kecamatan Koja          Rajawali    55.0\n",
       "12           Kecamatan Koja    Anggur Ginseng   132.0\n",
       "13           Kecamatan Koja             Vodka    20.0\n",
       "14      Kecamatan Cilincing      Anggur Merah     9.0\n",
       "15      Kecamatan Cilincing            Brandy   181.0\n",
       "16      Kecamatan Cilincing          Rajawali    26.0\n",
       "17      Kecamatan Cilincing     Kolesom Kecil     9.0\n",
       "18      Kecamatan Cilincing     Kolesom Besar    10.0\n",
       "19      Kecamatan Cilincing             Aseng    41.0\n",
       "20   KecamatanTanjung Priok            Brandy    60.0\n",
       "21   KecamatanTanjung Priok          Rajawali    45.0\n",
       "22   KecamatanTanjung Priok          Intisari     3.0\n",
       "23  Kecamatan Kelapa Gading           Guinnes     5.0\n",
       "24  Kecamatan Kelapa Gading           Bintang    42.0\n",
       "25  Kecamatan Kelapa Gading               Bir    66.0\n",
       "26  Kecamatan Kelapa Gading      Anggur Merah   120.0\n",
       "27  Kecamatan Kelapa Gading            Brandy    60.0\n",
       "28  Kecamatan Kelapa Gading             Vodka     4.0\n",
       "29  Kecamatan Kelapa Gading         Bir Hitam   119.0"
      ]
     },
     "execution_count": 33,
     "metadata": {},
     "output_type": "execute_result"
    }
   ],
   "source": [
    "#hapus kolom volume dan tampilkan data\n",
    "#jika 0 Baris, 1 Kolom \n",
    "file.drop('volume', axis=1)"
   ]
  },
  {
   "cell_type": "code",
   "execution_count": 34,
   "metadata": {},
   "outputs": [
    {
     "data": {
      "text/plain": [
       "<bound method NDFrame.head of                     wilayah     jenis_minuman  jumlah volume\n",
       "0      Kecamatan Pademangan               Ciu    41.0  Botol\n",
       "1      Kecamatan Pademangan  Anggur Orang Tua   134.0  Botol\n",
       "2      Kecamatan Pademangan           Guinnes    12.0  Botol\n",
       "3      Kecamatan Pademangan      Anggur Merah    84.0  Botol\n",
       "4      Kecamatan Pademangan          Rajawali    84.0  Botol\n",
       "5      Kecamatan Pademangan             Vodka     4.0  Botol\n",
       "7            Kecamatan Koja  Anggur Orang Tua    13.0  Botol\n",
       "8            Kecamatan Koja      Anggur Merah     2.0  Botol\n",
       "9            Kecamatan Koja            Brandy    60.0  Botol\n",
       "10           Kecamatan Koja           Mansion    23.0  Botol\n",
       "11           Kecamatan Koja          Rajawali    55.0  Botol\n",
       "12           Kecamatan Koja    Anggur Ginseng   132.0  Botol\n",
       "13           Kecamatan Koja             Vodka    20.0  Botol\n",
       "14      Kecamatan Cilincing      Anggur Merah     9.0  Botol\n",
       "15      Kecamatan Cilincing            Brandy   181.0  Botol\n",
       "16      Kecamatan Cilincing          Rajawali    26.0  Botol\n",
       "17      Kecamatan Cilincing     Kolesom Kecil     9.0  Botol\n",
       "18      Kecamatan Cilincing     Kolesom Besar    10.0  Botol\n",
       "19      Kecamatan Cilincing             Aseng    41.0  Botol\n",
       "20   KecamatanTanjung Priok            Brandy    60.0  Botol\n",
       "21   KecamatanTanjung Priok          Rajawali    45.0  Botol\n",
       "22   KecamatanTanjung Priok          Intisari     3.0  Botol\n",
       "23  Kecamatan Kelapa Gading           Guinnes     5.0  Botol\n",
       "24  Kecamatan Kelapa Gading           Bintang    42.0  Botol\n",
       "25  Kecamatan Kelapa Gading               Bir    66.0  Botol\n",
       "26  Kecamatan Kelapa Gading      Anggur Merah   120.0  Botol\n",
       "27  Kecamatan Kelapa Gading            Brandy    60.0  Botol\n",
       "28  Kecamatan Kelapa Gading             Vodka     4.0  Botol\n",
       "29  Kecamatan Kelapa Gading         Bir Hitam   119.0  Botol>"
      ]
     },
     "execution_count": 34,
     "metadata": {},
     "output_type": "execute_result"
    }
   ],
   "source": [
    "file.head"
   ]
  },
  {
   "attachments": {},
   "cell_type": "markdown",
   "metadata": {},
   "source": [
    "# Mengatasi Duplikasi data"
   ]
  },
  {
   "cell_type": "code",
   "execution_count": 35,
   "metadata": {},
   "outputs": [
    {
     "data": {
      "text/plain": [
       "0"
      ]
     },
     "execution_count": 35,
     "metadata": {},
     "output_type": "execute_result"
    }
   ],
   "source": [
    "file.duplicated().sum() #Melihat apakah ada file yang terduplikasi"
   ]
  },
  {
   "cell_type": "code",
   "execution_count": 36,
   "metadata": {},
   "outputs": [],
   "source": [
    "file = file.drop_duplicates() #menghapus file yang terduplikasi"
   ]
  },
  {
   "cell_type": "code",
   "execution_count": 37,
   "metadata": {},
   "outputs": [
    {
     "data": {
      "text/plain": [
       "0"
      ]
     },
     "execution_count": 37,
     "metadata": {},
     "output_type": "execute_result"
    }
   ],
   "source": [
    "file.duplicated().sum() #Melihat kembali apakah ada file yang terduplikasi"
   ]
  },
  {
   "attachments": {},
   "cell_type": "markdown",
   "metadata": {},
   "source": [
    "# Menangi OUTLIERS \n",
    "OUTLIERS adalah Data yang jauh berbeda Nilainya dari kebanyakan Nilai"
   ]
  },
  {
   "cell_type": "code",
   "execution_count": 38,
   "metadata": {},
   "outputs": [
    {
     "name": "stdout",
     "output_type": "stream",
     "text": [
      "berdata Angka['jumlah']\n",
      "berdata String['wilayah', 'jenis_minuman', 'volume']\n"
     ]
    }
   ],
   "source": [
    "data_numerik = file.select_dtypes(include='number').columns.tolist() #melihat isi data yang bertipe data int / angka\n",
    "data_categori = file.select_dtypes(include='object').columns.tolist() #melihat isi data yang bertipe data string / bukan angka\n",
    "\n",
    "print(f\"berdata Angka{data_numerik}\") #mencetak nama kolom yg bertipe data INT\n",
    "print(f\"berdata String{data_categori}\") #mencetak nama kolom yg bertipe data STRING"
   ]
  },
  {
   "cell_type": "code",
   "execution_count": 39,
   "metadata": {},
   "outputs": [
    {
     "data": {
      "image/png": "[encoded data removed]",
      "text/plain": [
       "<Figure size 640x480 with 1 Axes>"
      ]
     },
     "metadata": {},
     "output_type": "display_data"
    }
   ],
   "source": [
    "import matplotlib.pyplot as plt\n",
    "import seaborn as sns\n",
    "\n",
    "plt.Figure(figsize=(15,5)) #Untuk mengatur lebar chart tang di tampilkan\n",
    "features = data_numerik #datanumerik di simpan di variabel feature\n",
    "\n",
    "for i in range(0, len(features)):\n",
    "    plt.subplot(1, len(features), i+1)\n",
    "    sns.boxplot(y=file[features[i]], color='skyblue')"
   ]
  },
  {
   "cell_type": "code",
   "execution_count": 40,
   "metadata": {},
   "outputs": [],
   "source": [
    "Q1 = file['jumlah'].quantile(0.25)\n",
    "Q3 = file['jumlah'].quantile(0.75)\n",
    "IQR = Q3 - Q1\n",
    "batas_bawah = Q1 - (1.5 * IQR)\n",
    "batas_atas = Q3 +(1.5 * IQR)\n",
    "data_nonoutliers = (file['jumlah'] >= batas_bawah) & (file['jumlah'] <= batas_atas)\n",
    "file = file[data_nonoutliers]"
   ]
  },
  {
   "cell_type": "code",
   "execution_count": 41,
   "metadata": {},
   "outputs": [
    {
     "data": {
      "text/plain": [
       "(28, 4)"
      ]
     },
     "execution_count": 41,
     "metadata": {},
     "output_type": "execute_result"
    }
   ],
   "source": [
    "file.shape"
   ]
  },
  {
   "attachments": {},
   "cell_type": "markdown",
   "metadata": {},
   "source": [
    "# Feature Construction\n",
    "Pelabelan Encoding : 1. 2 Jenis Atribut\n",
    "                     2. Datanya berurutan / bertingkat,\n",
    "One Hot Encoding : Pemecahan Kolom"
   ]
  },
  {
   "cell_type": "code",
   "execution_count": 42,
   "metadata": {},
   "outputs": [
    {
     "name": "stdout",
     "output_type": "stream",
     "text": [
      "------------------------------------------------------------\n",
      "Nilai untuk colom : wilayah\n",
      "Kecamatan Koja             7\n",
      "Kecamatan Kelapa Gading    7\n",
      "Kecamatan Pademangan       6\n",
      "Kecamatan Cilincing        5\n",
      "KecamatanTanjung Priok     3\n",
      "Name: wilayah, dtype: int64\n",
      "\n",
      "\n",
      "------------------------------------------------------------\n",
      "Nilai untuk colom : jenis_minuman\n",
      "Anggur Merah        4\n",
      "Rajawali            4\n",
      "Vodka               3\n",
      "Brandy              3\n",
      "Anggur Orang Tua    2\n",
      "Guinnes             2\n",
      "Ciu                 1\n",
      "Mansion             1\n",
      "Anggur Ginseng      1\n",
      "Kolesom Kecil       1\n",
      "Kolesom Besar       1\n",
      "Aseng               1\n",
      "Intisari            1\n",
      "Bintang             1\n",
      "Bir                 1\n",
      "Bir Hitam           1\n",
      "Name: jenis_minuman, dtype: int64\n",
      "\n",
      "\n",
      "------------------------------------------------------------\n",
      "Nilai untuk colom : volume\n",
      "Botol    28\n",
      "Name: volume, dtype: int64\n",
      "\n",
      "\n"
     ]
    }
   ],
   "source": [
    "for col in data_categori: #Melakukan looping pada data bertipe categori\n",
    "    print(\"---\"*20)\n",
    "    print(f\"Nilai untuk colom : {col}\") #Untuk menampilkan Nama kolom\n",
    "    print(file[col].value_counts()) #Untuk mendeteksi berapa banyak Nilai yang sama\n",
    "    print(\"\\n\")"
   ]
  },
  {
   "cell_type": "code",
   "execution_count": 43,
   "metadata": {},
   "outputs": [
    {
     "data": {
      "text/plain": [
       "<bound method NDFrame.head of                     wilayah  jenis_minuman  jumlah volume\n",
       "0      Kecamatan Pademangan              8    41.0  Botol\n",
       "1      Kecamatan Pademangan              2   134.0  Botol\n",
       "2      Kecamatan Pademangan              9    12.0  Botol\n",
       "3      Kecamatan Pademangan              1    84.0  Botol\n",
       "4      Kecamatan Pademangan             14    84.0  Botol\n",
       "5      Kecamatan Pademangan             15     4.0  Botol\n",
       "7            Kecamatan Koja              2    13.0  Botol\n",
       "8            Kecamatan Koja              1     2.0  Botol\n",
       "9            Kecamatan Koja              7    60.0  Botol\n",
       "10           Kecamatan Koja             13    23.0  Botol\n",
       "11           Kecamatan Koja             14    55.0  Botol\n",
       "12           Kecamatan Koja              0   132.0  Botol\n",
       "13           Kecamatan Koja             15    20.0  Botol\n",
       "14      Kecamatan Cilincing              1     9.0  Botol\n",
       "16      Kecamatan Cilincing             14    26.0  Botol\n",
       "17      Kecamatan Cilincing             12     9.0  Botol\n",
       "18      Kecamatan Cilincing             11    10.0  Botol\n",
       "19      Kecamatan Cilincing              3    41.0  Botol\n",
       "20   KecamatanTanjung Priok              7    60.0  Botol\n",
       "21   KecamatanTanjung Priok             14    45.0  Botol\n",
       "22   KecamatanTanjung Priok             10     3.0  Botol\n",
       "23  Kecamatan Kelapa Gading              9     5.0  Botol\n",
       "24  Kecamatan Kelapa Gading              4    42.0  Botol\n",
       "25  Kecamatan Kelapa Gading              5    66.0  Botol\n",
       "26  Kecamatan Kelapa Gading              1   120.0  Botol\n",
       "27  Kecamatan Kelapa Gading              7    60.0  Botol\n",
       "28  Kecamatan Kelapa Gading             15     4.0  Botol\n",
       "29  Kecamatan Kelapa Gading              6   119.0  Botol>"
      ]
     },
     "execution_count": 43,
     "metadata": {},
     "output_type": "execute_result"
    }
   ],
   "source": [
    "from sklearn.preprocessing import LabelEncoder\n",
    "pc=LabelEncoder()\n",
    "file['jenis_minuman'] = pc.fit_transform(file['jenis_minuman'])\n",
    "file.head"
   ]
  },
  {
   "cell_type": "code",
   "execution_count": null,
   "metadata": {},
   "outputs": [],
   "source": []
  }
 ],
 "metadata": {
  "kernelspec": {
   "display_name": "Python 3",
   "language": "python",
   "name": "python3"
  },
  "language_info": {
   "codemirror_mode": {
    "name": "ipython",
    "version": 3
   },
   "file_extension": ".py",
   "mimetype": "text/x-python",
   "name": "python",
   "nbconvert_exporter": "python",
   "pygments_lexer": "ipython3",
   "version": "3.11.0"
  },
  "orig_nbformat": 4,
  "vscode": {
   "interpreter": {
    "hash": "c261aea317cc0286b3b3261fbba9abdec21eaa57589985bb7a274bf54d6cc0a7"
   }
  }
 },
 "nbformat": 4,
 "nbformat_minor": 2
}
